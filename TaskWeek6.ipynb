{
  "metadata": {
    "kernelspec": {
      "language": "python",
      "display_name": "Python 3",
      "name": "python3"
    },
    "language_info": {
      "name": "python",
      "version": "3.10.13",
      "mimetype": "text/x-python",
      "codemirror_mode": {
        "name": "ipython",
        "version": 3
      },
      "pygments_lexer": "ipython3",
      "nbconvert_exporter": "python",
      "file_extension": ".py"
    },
    "kaggle": {
      "accelerator": "none",
      "dataSources": [
        {
          "sourceId": 2510329,
          "sourceType": "datasetVersion",
          "datasetId": 1520310
        }
      ],
      "dockerImageVersionId": 30698,
      "isInternetEnabled": false,
      "language": "python",
      "sourceType": "notebook",
      "isGpuEnabled": false
    },
    "colab": {
      "provenance": [],
      "include_colab_link": true
    }
  },
  "nbformat_minor": 0,
  "nbformat": 4,
  "cells": [
    {
      "cell_type": "markdown",
      "metadata": {
        "id": "view-in-github",
        "colab_type": "text"
      },
      "source": [
        "<a href=\"https://colab.research.google.com/github/bonardolubis/MachineLearningTasks/blob/main/TaskWeek6.ipynb\" target=\"_parent\"><img src=\"https://colab.research.google.com/assets/colab-badge.svg\" alt=\"Open In Colab\"/></a>"
      ]
    },
    {
      "cell_type": "markdown",
      "source": [
        "Tugas Minggu ke-6\n",
        "\n",
        "Nama : Bonardo Lubis\n",
        "\n",
        "NPM : 2006568784"
      ],
      "metadata": {
        "id": "i80hrjiSgXkE"
      }
    },
    {
      "cell_type": "markdown",
      "source": [
        "Original Code : https://www.kaggle.com/code/scratchpad/notebook324d9d5f6b/edit"
      ],
      "metadata": {
        "id": "goUgYTWDgdML"
      }
    },
    {
      "source": [
        "# IMPORTANT: RUN THIS CELL IN ORDER TO IMPORT YOUR KAGGLE DATA SOURCES,\n",
        "# THEN FEEL FREE TO DELETE THIS CELL.\n",
        "# NOTE: THIS NOTEBOOK ENVIRONMENT DIFFERS FROM KAGGLE'S PYTHON\n",
        "# ENVIRONMENT SO THERE MAY BE MISSING LIBRARIES USED BY YOUR\n",
        "# NOTEBOOK.\n",
        "import kagglehub\n",
        "jp797498e_twitter_entity_sentiment_analysis_path = kagglehub.dataset_download('jp797498e/twitter-entity-sentiment-analysis')\n",
        "\n",
        "print('Data source import complete.')\n"
      ],
      "metadata": {
        "id": "j2mqRGvVgKfb"
      },
      "cell_type": "code",
      "outputs": [],
      "execution_count": null
    },
    {
      "cell_type": "code",
      "source": [
        "import pandas as pd"
      ],
      "metadata": {
        "_uuid": "8f2839f25d086af736a60e9eeb907d3b93b6e0e5",
        "_cell_guid": "b1076dfc-b9ad-4769-8c92-a6c4dae69d19",
        "execution": {
          "iopub.status.busy": "2024-04-27T23:46:01.375525Z",
          "iopub.execute_input": "2024-04-27T23:46:01.375992Z",
          "iopub.status.idle": "2024-04-27T23:46:02.348013Z",
          "shell.execute_reply.started": "2024-04-27T23:46:01.375958Z",
          "shell.execute_reply": "2024-04-27T23:46:02.34687Z"
        },
        "trusted": true,
        "id": "uBf4SIQVgKfc"
      },
      "execution_count": null,
      "outputs": []
    },
    {
      "cell_type": "markdown",
      "source": [
        "- Lod the training data"
      ],
      "metadata": {
        "id": "50GrB2uZgKfc"
      }
    },
    {
      "cell_type": "code",
      "source": [
        "training=pd.read_csv(\"/kaggle/input/twitter-entity-sentiment-analysis/twitter_training.csv\")\n",
        "test=pd.read_csv(\"/kaggle/input/twitter-entity-sentiment-analysis/twitter_validation.csv\")"
      ],
      "metadata": {
        "execution": {
          "iopub.status.busy": "2024-04-27T23:46:02.350036Z",
          "iopub.execute_input": "2024-04-27T23:46:02.350473Z",
          "iopub.status.idle": "2024-04-27T23:46:02.748446Z",
          "shell.execute_reply.started": "2024-04-27T23:46:02.350444Z",
          "shell.execute_reply": "2024-04-27T23:46:02.747574Z"
        },
        "trusted": true,
        "id": "9ttWet2HgKfd"
      },
      "execution_count": null,
      "outputs": []
    },
    {
      "cell_type": "code",
      "source": [
        "training"
      ],
      "metadata": {
        "execution": {
          "iopub.status.busy": "2024-04-27T23:46:02.74994Z",
          "iopub.execute_input": "2024-04-27T23:46:02.750394Z",
          "iopub.status.idle": "2024-04-27T23:46:02.777897Z",
          "shell.execute_reply.started": "2024-04-27T23:46:02.75035Z",
          "shell.execute_reply": "2024-04-27T23:46:02.776937Z"
        },
        "trusted": true,
        "id": "i82yBy9FgKfe"
      },
      "execution_count": null,
      "outputs": []
    },
    {
      "cell_type": "markdown",
      "source": [
        "- load the testing data"
      ],
      "metadata": {
        "id": "PIc6wMDpgKfe"
      }
    },
    {
      "cell_type": "code",
      "source": [
        "test"
      ],
      "metadata": {
        "execution": {
          "iopub.status.busy": "2024-04-27T23:46:02.78056Z",
          "iopub.execute_input": "2024-04-27T23:46:02.780881Z",
          "iopub.status.idle": "2024-04-27T23:46:02.79343Z",
          "shell.execute_reply.started": "2024-04-27T23:46:02.780854Z",
          "shell.execute_reply": "2024-04-27T23:46:02.792454Z"
        },
        "trusted": true,
        "id": "XaKneA4wgKfe"
      },
      "execution_count": null,
      "outputs": []
    },
    {
      "cell_type": "markdown",
      "source": [
        "- Add headers for the columns in each dataframe:"
      ],
      "metadata": {
        "id": "gn84JEJBgKfe"
      }
    },
    {
      "cell_type": "code",
      "source": [
        "test.columns = ['Header1', 'company','labels','text']\n",
        "training.columns = ['Header1', 'company','labels','text']"
      ],
      "metadata": {
        "execution": {
          "iopub.status.busy": "2024-04-27T23:46:02.794767Z",
          "iopub.execute_input": "2024-04-27T23:46:02.795104Z",
          "iopub.status.idle": "2024-04-27T23:46:02.803561Z",
          "shell.execute_reply.started": "2024-04-27T23:46:02.795077Z",
          "shell.execute_reply": "2024-04-27T23:46:02.802594Z"
        },
        "trusted": true,
        "id": "1ZmFKtgHgKfe"
      },
      "execution_count": null,
      "outputs": []
    },
    {
      "cell_type": "code",
      "source": [
        "print(training)\n",
        "print(\"---------------------------------------------------------------------\")\n",
        "print(test)"
      ],
      "metadata": {
        "execution": {
          "iopub.status.busy": "2024-04-27T23:46:02.804862Z",
          "iopub.execute_input": "2024-04-27T23:46:02.805208Z",
          "iopub.status.idle": "2024-04-27T23:46:02.820443Z",
          "shell.execute_reply.started": "2024-04-27T23:46:02.805172Z",
          "shell.execute_reply": "2024-04-27T23:46:02.819397Z"
        },
        "trusted": true,
        "id": "ztaZfL10gKff"
      },
      "execution_count": null,
      "outputs": []
    },
    {
      "cell_type": "markdown",
      "source": [
        "- Delete unneeded columns"
      ],
      "metadata": {
        "id": "TFkiIANDgKff"
      }
    },
    {
      "cell_type": "code",
      "source": [
        "training.drop(columns=[\"Header1\",\"company\"],inplace=True)\n",
        "test.drop(columns=[\"Header1\",\"company\"],inplace=True)"
      ],
      "metadata": {
        "execution": {
          "iopub.status.busy": "2024-04-27T23:46:02.821687Z",
          "iopub.execute_input": "2024-04-27T23:46:02.82199Z",
          "iopub.status.idle": "2024-04-27T23:46:02.834214Z",
          "shell.execute_reply.started": "2024-04-27T23:46:02.821964Z",
          "shell.execute_reply": "2024-04-27T23:46:02.833146Z"
        },
        "trusted": true,
        "id": "-pNi5JHCgKff"
      },
      "execution_count": null,
      "outputs": []
    },
    {
      "cell_type": "code",
      "source": [
        "training.head()"
      ],
      "metadata": {
        "execution": {
          "iopub.status.busy": "2024-04-27T23:46:02.835339Z",
          "iopub.execute_input": "2024-04-27T23:46:02.835608Z",
          "iopub.status.idle": "2024-04-27T23:46:02.851028Z",
          "shell.execute_reply.started": "2024-04-27T23:46:02.835584Z",
          "shell.execute_reply": "2024-04-27T23:46:02.849895Z"
        },
        "trusted": true,
        "id": "_frVJRFlgKff"
      },
      "execution_count": null,
      "outputs": []
    },
    {
      "cell_type": "code",
      "source": [
        "test.head()"
      ],
      "metadata": {
        "execution": {
          "iopub.status.busy": "2024-04-27T23:46:02.852315Z",
          "iopub.execute_input": "2024-04-27T23:46:02.852749Z",
          "iopub.status.idle": "2024-04-27T23:46:02.866661Z",
          "shell.execute_reply.started": "2024-04-27T23:46:02.852709Z",
          "shell.execute_reply": "2024-04-27T23:46:02.865583Z"
        },
        "trusted": true,
        "id": "kBij8Z4XgKff"
      },
      "execution_count": null,
      "outputs": []
    },
    {
      "cell_type": "markdown",
      "source": [
        "- Add the two data frame in one datarame"
      ],
      "metadata": {
        "id": "Bf1Gkw0QgKff"
      }
    },
    {
      "cell_type": "code",
      "source": [
        "sentiment=pd.concat([training,test],ignore_index=True)\n",
        "sentiment"
      ],
      "metadata": {
        "execution": {
          "iopub.status.busy": "2024-04-27T23:46:02.870503Z",
          "iopub.execute_input": "2024-04-27T23:46:02.870854Z",
          "iopub.status.idle": "2024-04-27T23:46:02.885131Z",
          "shell.execute_reply.started": "2024-04-27T23:46:02.870825Z",
          "shell.execute_reply": "2024-04-27T23:46:02.883993Z"
        },
        "trusted": true,
        "id": "kh1pLc2igKfg"
      },
      "execution_count": null,
      "outputs": []
    },
    {
      "cell_type": "markdown",
      "source": [
        "- Check for cleaning data"
      ],
      "metadata": {
        "id": "UARL_l0-gKfg"
      }
    },
    {
      "cell_type": "code",
      "source": [
        "sentiment.info()"
      ],
      "metadata": {
        "execution": {
          "iopub.status.busy": "2024-04-27T23:46:02.886415Z",
          "iopub.execute_input": "2024-04-27T23:46:02.886778Z",
          "iopub.status.idle": "2024-04-27T23:46:02.925714Z",
          "shell.execute_reply.started": "2024-04-27T23:46:02.886737Z",
          "shell.execute_reply": "2024-04-27T23:46:02.924627Z"
        },
        "trusted": true,
        "id": "MFwzlPRrgKfg"
      },
      "execution_count": null,
      "outputs": []
    },
    {
      "cell_type": "code",
      "source": [
        "sentiment.isnull().sum()"
      ],
      "metadata": {
        "execution": {
          "iopub.status.busy": "2024-04-27T23:46:02.927225Z",
          "iopub.execute_input": "2024-04-27T23:46:02.927655Z",
          "iopub.status.idle": "2024-04-27T23:46:02.953722Z",
          "shell.execute_reply.started": "2024-04-27T23:46:02.927618Z",
          "shell.execute_reply": "2024-04-27T23:46:02.952622Z"
        },
        "trusted": true,
        "id": "wo3JZ3NEgKfg"
      },
      "execution_count": null,
      "outputs": []
    },
    {
      "cell_type": "code",
      "source": [
        "sentiment.dropna(inplace=True)\n",
        "sentiment.isnull().sum()"
      ],
      "metadata": {
        "execution": {
          "iopub.status.busy": "2024-04-27T23:46:02.955092Z",
          "iopub.execute_input": "2024-04-27T23:46:02.955448Z",
          "iopub.status.idle": "2024-04-27T23:46:03.006186Z",
          "shell.execute_reply.started": "2024-04-27T23:46:02.955421Z",
          "shell.execute_reply": "2024-04-27T23:46:03.005135Z"
        },
        "trusted": true,
        "id": "GBYu_XidgKfg"
      },
      "execution_count": null,
      "outputs": []
    },
    {
      "cell_type": "code",
      "source": [
        "sentiment.duplicated().sum()"
      ],
      "metadata": {
        "execution": {
          "iopub.status.busy": "2024-04-27T23:46:03.007523Z",
          "iopub.execute_input": "2024-04-27T23:46:03.007951Z",
          "iopub.status.idle": "2024-04-27T23:46:03.069033Z",
          "shell.execute_reply.started": "2024-04-27T23:46:03.00791Z",
          "shell.execute_reply": "2024-04-27T23:46:03.068009Z"
        },
        "trusted": true,
        "id": "y3aEUI-igKfg"
      },
      "execution_count": null,
      "outputs": []
    },
    {
      "cell_type": "code",
      "source": [
        "sentiment.drop_duplicates(inplace=True)\n",
        "sentiment.duplicated().sum()"
      ],
      "metadata": {
        "execution": {
          "iopub.status.busy": "2024-04-27T23:46:03.070205Z",
          "iopub.execute_input": "2024-04-27T23:46:03.070489Z",
          "iopub.status.idle": "2024-04-27T23:46:03.170731Z",
          "shell.execute_reply.started": "2024-04-27T23:46:03.070464Z",
          "shell.execute_reply": "2024-04-27T23:46:03.169809Z"
        },
        "trusted": true,
        "id": "2PlPe6TXgKfg"
      },
      "execution_count": null,
      "outputs": []
    },
    {
      "cell_type": "markdown",
      "source": [
        "- preprocessing the text n the data:"
      ],
      "metadata": {
        "id": "bw4VYRl1gKfh"
      }
    },
    {
      "cell_type": "code",
      "source": [
        "import re\n",
        "import nltk\n",
        "from nltk.tokenize import word_tokenize\n",
        "from nltk.corpus import stopwords\n",
        "from nltk.stem import WordNetLemmatizer\n",
        "import numpy as np\n",
        "nltk.download('wordnet', \"/kaggle/working/nltk_data/\")\n",
        "nltk.download('omw-1.4', \"/kaggle/working/nltk_data/\")\n",
        "! unzip /kaggle/working/nltk_data/corpora/wordnet.zip -d /kaggle/working/nltk_data/corpora\n",
        "! unzip /kaggle/working/nltk_data/corpora/omw-1.4.zip -d /kaggle/working/nltk_data/corpora\n",
        "nltk.data.path.append(\"/kaggle/working/nltk_data/\")"
      ],
      "metadata": {
        "execution": {
          "iopub.status.busy": "2024-04-27T23:46:03.172054Z",
          "iopub.execute_input": "2024-04-27T23:46:03.172398Z",
          "iopub.status.idle": "2024-04-27T23:46:08.746484Z",
          "shell.execute_reply.started": "2024-04-27T23:46:03.172366Z",
          "shell.execute_reply": "2024-04-27T23:46:08.745255Z"
        },
        "trusted": true,
        "id": "ugy_D4XNgKfh"
      },
      "execution_count": null,
      "outputs": []
    },
    {
      "cell_type": "markdown",
      "source": [
        "- this function for cleaning the text:"
      ],
      "metadata": {
        "id": "XkhGlx_YgKfh"
      }
    },
    {
      "cell_type": "code",
      "source": [
        "\n",
        "def process_text(text):\n",
        "    text = re.sub(r'\\s+', ' ', text, flags=re.I) # Remove extra white space from text\n",
        "\n",
        "    text = re.sub(r'\\W', ' ', str(text)) # Remove all the special characters from text\n",
        "\n",
        "    text = re.sub(r'\\s+[a-zA-Z]\\s+', ' ', text) # Remove all single characters from text\n",
        "\n",
        "    text = re.sub(r'[^a-zA-Z\\s]', '', text) # Remove any character that isn't alphabetical\n",
        "\n",
        "    text = text.lower()\n",
        "\n",
        "    words = word_tokenize(text)\n",
        "\n",
        "    lemmatizer = WordNetLemmatizer()\n",
        "    words = [lemmatizer.lemmatize(word) for word in words]\n",
        "\n",
        "    stop_words = set(stopwords.words(\"english\"))\n",
        "    Words = [word for word in words if word not in stop_words]\n",
        "\n",
        "    Words = [word for word in Words if len(word) > 3]\n",
        "\n",
        "    indices = np.unique(Words, return_index=True)[1]\n",
        "    cleaned_text = np.array(Words)[np.sort(indices)].tolist()\n",
        "\n",
        "    return cleaned_text"
      ],
      "metadata": {
        "execution": {
          "iopub.status.busy": "2024-04-27T23:46:08.748639Z",
          "iopub.execute_input": "2024-04-27T23:46:08.749657Z",
          "iopub.status.idle": "2024-04-27T23:46:08.759442Z",
          "shell.execute_reply.started": "2024-04-27T23:46:08.749606Z",
          "shell.execute_reply": "2024-04-27T23:46:08.758338Z"
        },
        "trusted": true,
        "id": "RuLT-UKQgKfh"
      },
      "execution_count": null,
      "outputs": []
    },
    {
      "cell_type": "code",
      "source": [
        "x=sentiment.drop('labels',axis=1)\n",
        "y=sentiment.labels"
      ],
      "metadata": {
        "execution": {
          "iopub.status.busy": "2024-04-27T23:46:08.761228Z",
          "iopub.execute_input": "2024-04-27T23:46:08.762302Z",
          "iopub.status.idle": "2024-04-27T23:46:08.783822Z",
          "shell.execute_reply.started": "2024-04-27T23:46:08.762272Z",
          "shell.execute_reply": "2024-04-27T23:46:08.782732Z"
        },
        "trusted": true,
        "id": "egJ9ChRngKfh"
      },
      "execution_count": null,
      "outputs": []
    },
    {
      "cell_type": "code",
      "source": [
        "texts=list(x['text'])"
      ],
      "metadata": {
        "execution": {
          "iopub.status.busy": "2024-04-27T23:46:08.785057Z",
          "iopub.execute_input": "2024-04-27T23:46:08.78537Z",
          "iopub.status.idle": "2024-04-27T23:46:08.804709Z",
          "shell.execute_reply.started": "2024-04-27T23:46:08.785343Z",
          "shell.execute_reply": "2024-04-27T23:46:08.80349Z"
        },
        "trusted": true,
        "id": "E_8h_t7KgKfh"
      },
      "execution_count": null,
      "outputs": []
    },
    {
      "cell_type": "code",
      "source": [
        "cleaned_text = [process_text(text) for text in texts]"
      ],
      "metadata": {
        "execution": {
          "iopub.status.busy": "2024-04-27T23:46:08.806348Z",
          "iopub.execute_input": "2024-04-27T23:46:08.806699Z",
          "iopub.status.idle": "2024-04-27T23:47:04.651387Z",
          "shell.execute_reply.started": "2024-04-27T23:46:08.806672Z",
          "shell.execute_reply": "2024-04-27T23:47:04.650311Z"
        },
        "trusted": true,
        "id": "_H5QGRmPgKfi"
      },
      "execution_count": null,
      "outputs": []
    },
    {
      "cell_type": "code",
      "source": [
        "print(cleaned_text[:10])"
      ],
      "metadata": {
        "execution": {
          "iopub.status.busy": "2024-04-27T23:47:04.653479Z",
          "iopub.execute_input": "2024-04-27T23:47:04.654094Z",
          "iopub.status.idle": "2024-04-27T23:47:04.660664Z",
          "shell.execute_reply.started": "2024-04-27T23:47:04.654048Z",
          "shell.execute_reply": "2024-04-27T23:47:04.659227Z"
        },
        "trusted": true,
        "id": "vbaEBsqLgKfi"
      },
      "execution_count": null,
      "outputs": []
    },
    {
      "cell_type": "code",
      "source": [
        "from sklearn.model_selection import train_test_split\n",
        "X_train, X_test, y_train, y_test = train_test_split(cleaned_text, y, test_size=0.2, random_state=42)"
      ],
      "metadata": {
        "execution": {
          "iopub.status.busy": "2024-04-27T23:47:04.662227Z",
          "iopub.execute_input": "2024-04-27T23:47:04.662579Z",
          "iopub.status.idle": "2024-04-27T23:47:04.707265Z",
          "shell.execute_reply.started": "2024-04-27T23:47:04.662522Z",
          "shell.execute_reply": "2024-04-27T23:47:04.70632Z"
        },
        "trusted": true,
        "id": "ruhFTTkSgKfi"
      },
      "execution_count": null,
      "outputs": []
    },
    {
      "cell_type": "markdown",
      "source": [
        "- prepare the data to the model:"
      ],
      "metadata": {
        "id": "yAxGAZNqgKfi"
      }
    },
    {
      "cell_type": "code",
      "source": [
        "from tensorflow.keras.preprocessing.text import Tokenizer\n",
        "from tensorflow.keras.preprocessing.sequence import pad_sequences\n",
        "\n",
        "max_vocab = 20000\n",
        "tokenizer = Tokenizer(num_words=max_vocab)\n",
        "tokenizer.fit_on_texts(X_train)\n",
        "word_idx = tokenizer.word_index  # Corrected syntax for accessing word index\n",
        "v = len(word_idx)\n",
        "print(\"the size of vocab =\", v)  # Corrected spacing\n",
        "X_train = tokenizer.texts_to_sequences(X_train)\n",
        "X_test = tokenizer.texts_to_sequences(X_test)\n"
      ],
      "metadata": {
        "execution": {
          "iopub.status.busy": "2024-04-27T23:47:04.708509Z",
          "iopub.execute_input": "2024-04-27T23:47:04.70942Z",
          "iopub.status.idle": "2024-04-27T23:47:18.82438Z",
          "shell.execute_reply.started": "2024-04-27T23:47:04.709389Z",
          "shell.execute_reply": "2024-04-27T23:47:18.823044Z"
        },
        "trusted": true,
        "id": "PHLVgo2SgKfi"
      },
      "execution_count": null,
      "outputs": []
    },
    {
      "cell_type": "code",
      "source": [
        "from tensorflow.keras.preprocessing.sequence import pad_sequences\n",
        "\n",
        "maxlen = 100\n",
        "X_train = pad_sequences(X_train,maxlen=maxlen)\n",
        "X_test = pad_sequences(X_test,maxlen=maxlen)\n",
        "\n"
      ],
      "metadata": {
        "execution": {
          "iopub.status.busy": "2024-04-27T23:47:18.825977Z",
          "iopub.execute_input": "2024-04-27T23:47:18.826643Z",
          "iopub.status.idle": "2024-04-27T23:47:19.164057Z",
          "shell.execute_reply.started": "2024-04-27T23:47:18.826611Z",
          "shell.execute_reply": "2024-04-27T23:47:19.163089Z"
        },
        "trusted": true,
        "id": "GiuRP0TVgKfi"
      },
      "execution_count": null,
      "outputs": []
    },
    {
      "cell_type": "code",
      "source": [
        "y.value_counts()"
      ],
      "metadata": {
        "execution": {
          "iopub.status.busy": "2024-04-27T23:47:19.165334Z",
          "iopub.execute_input": "2024-04-27T23:47:19.165658Z",
          "iopub.status.idle": "2024-04-27T23:47:19.186209Z",
          "shell.execute_reply.started": "2024-04-27T23:47:19.165632Z",
          "shell.execute_reply": "2024-04-27T23:47:19.184889Z"
        },
        "trusted": true,
        "id": "8zj7aSLfgKfj"
      },
      "execution_count": null,
      "outputs": []
    },
    {
      "cell_type": "markdown",
      "source": [
        "- build the model"
      ],
      "metadata": {
        "id": "h2WU7I8-gKfj"
      }
    },
    {
      "cell_type": "code",
      "source": [
        "from keras.models import Sequential\n",
        "from keras.layers import Embedding, LSTM, Dense,Input,GlobalMaxPooling1D,Dropout,Bidirectional\n",
        "from tensorflow.keras.models import Model\n",
        "from keras import optimizers\n",
        "import numpy as np\n",
        "D=100\n",
        "inputt=Input(shape=(maxlen,))"
      ],
      "metadata": {
        "execution": {
          "iopub.status.busy": "2024-04-27T23:47:19.188001Z",
          "iopub.execute_input": "2024-04-27T23:47:19.188414Z",
          "iopub.status.idle": "2024-04-27T23:47:19.199669Z",
          "shell.execute_reply.started": "2024-04-27T23:47:19.188377Z",
          "shell.execute_reply": "2024-04-27T23:47:19.198509Z"
        },
        "trusted": true,
        "id": "tpZNOGoCgKfj"
      },
      "execution_count": null,
      "outputs": []
    },
    {
      "cell_type": "code",
      "source": [
        "from tensorflow.keras.optimizers import Adam\n",
        "learning_rate = 0.0001  # Set your desired learning rate here\n",
        "x=Embedding(v+1,D)(inputt)\n",
        "x = Dropout(0.5)(x)\n",
        "x = Bidirectional(LSTM(150))(x)\n",
        "x = Dense(32, activation='relu')(x)\n",
        "x = Dense(4, activation='softmax')(x)\n",
        "\n",
        "model = Model(inputt, x)\n",
        "\n",
        "# Define optimizer with specified learning rate\n",
        "optimizer = Adam(learning_rate=learning_rate)\n",
        "\n",
        "model.compile(optimizer=optimizer, loss='categorical_crossentropy', metrics=['accuracy'])\n"
      ],
      "metadata": {
        "execution": {
          "iopub.status.busy": "2024-04-27T23:47:19.201084Z",
          "iopub.execute_input": "2024-04-27T23:47:19.201507Z",
          "iopub.status.idle": "2024-04-27T23:47:20.466086Z",
          "shell.execute_reply.started": "2024-04-27T23:47:19.201471Z",
          "shell.execute_reply": "2024-04-27T23:47:20.465048Z"
        },
        "trusted": true,
        "id": "Qdh62dNRgKfj"
      },
      "execution_count": null,
      "outputs": []
    },
    {
      "cell_type": "code",
      "source": [
        "from sklearn.preprocessing import LabelEncoder\n",
        "\n",
        "label_encoder = LabelEncoder()\n",
        "y_train_encoded = label_encoder.fit_transform(y_train)\n",
        "y_test_encoded = label_encoder.transform(y_test)\n"
      ],
      "metadata": {
        "execution": {
          "iopub.status.busy": "2024-04-27T23:47:20.471106Z",
          "iopub.execute_input": "2024-04-27T23:47:20.471472Z",
          "iopub.status.idle": "2024-04-27T23:47:20.496806Z",
          "shell.execute_reply.started": "2024-04-27T23:47:20.471442Z",
          "shell.execute_reply": "2024-04-27T23:47:20.495646Z"
        },
        "trusted": true,
        "id": "KqF_wn5egKfj"
      },
      "execution_count": null,
      "outputs": []
    },
    {
      "cell_type": "code",
      "source": [
        "import tensorflow as tf\n",
        "\n",
        "y_train_one_hot = tf.keras.utils.to_categorical(y_train_encoded)\n",
        "y_test_one_hot = tf.keras.utils.to_categorical(y_test_encoded)\n",
        "history = model.fit(X_train, y_train_one_hot, epochs=40, validation_data=(X_test, y_test_one_hot))\n"
      ],
      "metadata": {
        "execution": {
          "iopub.status.busy": "2024-04-27T23:47:20.498422Z",
          "iopub.execute_input": "2024-04-27T23:47:20.499461Z",
          "iopub.status.idle": "2024-04-28T00:09:17.560079Z",
          "shell.execute_reply.started": "2024-04-27T23:47:20.499416Z",
          "shell.execute_reply": "2024-04-28T00:09:17.558856Z"
        },
        "trusted": true,
        "id": "ppGzxGZXgKfk"
      },
      "execution_count": null,
      "outputs": []
    },
    {
      "cell_type": "code",
      "source": [
        "import matplotlib.pyplot as plt\n",
        "\n",
        "# Plot training & validation accuracy values\n",
        "plt.plot(history.history['accuracy'])\n",
        "plt.plot(history.history['val_accuracy'])\n",
        "plt.title('Model accuracy')\n",
        "plt.xlabel('Epoch')\n",
        "plt.ylabel('Accuracy')\n",
        "plt.legend(['Train', 'Test'], loc='upper left')\n",
        "plt.show()\n",
        "\n",
        "# Plot training & validation loss values\n",
        "plt.plot(history.history['loss'])\n",
        "plt.plot(history.history['val_loss'])\n",
        "plt.title('Model loss')\n",
        "plt.xlabel('Epoch')\n",
        "plt.ylabel('Loss')\n",
        "plt.legend(['Train', 'Test'], loc='upper left')\n",
        "plt.show()\n"
      ],
      "metadata": {
        "execution": {
          "iopub.status.busy": "2024-04-28T00:09:28.910375Z",
          "iopub.execute_input": "2024-04-28T00:09:28.910814Z",
          "iopub.status.idle": "2024-04-28T00:09:29.635266Z",
          "shell.execute_reply.started": "2024-04-28T00:09:28.910779Z",
          "shell.execute_reply": "2024-04-28T00:09:29.633978Z"
        },
        "trusted": true,
        "id": "0htYFHNogKfk"
      },
      "execution_count": null,
      "outputs": []
    },
    {
      "cell_type": "code",
      "source": [
        "# Evaluate the model on the test data\n",
        "loss, accuracy = model.evaluate(X_test, y_test_one_hot)\n",
        "\n",
        "print(\"Test Loss:\", loss)\n",
        "print(\"Test Accuracy:\", accuracy)\n"
      ],
      "metadata": {
        "execution": {
          "iopub.status.busy": "2024-04-28T00:09:34.127309Z",
          "iopub.execute_input": "2024-04-28T00:09:34.12776Z",
          "iopub.status.idle": "2024-04-28T00:09:37.894634Z",
          "shell.execute_reply.started": "2024-04-28T00:09:34.127724Z",
          "shell.execute_reply": "2024-04-28T00:09:37.893398Z"
        },
        "trusted": true,
        "id": "toWQm9HOgKfk"
      },
      "execution_count": null,
      "outputs": []
    },
    {
      "cell_type": "code",
      "source": [
        "import matplotlib.pyplot as plt\n",
        "import seaborn as sns\n",
        "from sklearn.metrics import confusion_matrix\n",
        "import numpy as np\n",
        "\n",
        "\n",
        "y_pred_probs = model.predict(X_test)\n",
        "y_pred_labels = np.argmax(y_pred_probs, axis=1)\n",
        "y_true_labels = np.argmax(y_test_one_hot, axis=1)\n",
        "conf_matrix = confusion_matrix(y_true_labels, y_pred_labels)\n",
        "plt.figure(figsize=(8, 6))\n",
        "sns.heatmap(conf_matrix, annot=True, fmt='d', cmap='Blues',\n",
        "            xticklabels=['Class 0', 'Class 1', 'Class 2', 'Class 3'],\n",
        "            yticklabels=['Class 0', 'Class 1', 'Class 2', 'Class 3'])\n",
        "plt.xlabel('Predicted')\n",
        "plt.ylabel('True')\n",
        "plt.title('Confusion Matrix')\n",
        "plt.show()\n"
      ],
      "metadata": {
        "execution": {
          "iopub.status.busy": "2024-04-28T00:09:40.291332Z",
          "iopub.execute_input": "2024-04-28T00:09:40.291769Z",
          "iopub.status.idle": "2024-04-28T00:09:43.316239Z",
          "shell.execute_reply.started": "2024-04-28T00:09:40.291735Z",
          "shell.execute_reply": "2024-04-28T00:09:43.315006Z"
        },
        "trusted": true,
        "id": "4cL9-SmggKfk"
      },
      "execution_count": null,
      "outputs": []
    }
  ]
}